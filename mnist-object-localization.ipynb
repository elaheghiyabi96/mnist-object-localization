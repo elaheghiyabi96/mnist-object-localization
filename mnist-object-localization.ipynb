{
 "cells": [
  {
   "cell_type": "code",
   "execution_count": 1,
   "metadata": {},
   "outputs": [
    {
     "name": "stdout",
     "output_type": "stream",
     "text": [
      "Epoch 1/5\n",
      "1875/1875 [==============================] - 46s 22ms/step - loss: 0.1277 - classification_loss: 0.1263 - bbox_loss: 0.0029 - classification_accuracy: 0.9624 - val_loss: 0.0463 - val_classification_loss: 0.0458 - val_bbox_loss: 9.8421e-04 - val_classification_accuracy: 0.9847\n",
      "Epoch 2/5\n",
      "1875/1875 [==============================] - 46s 24ms/step - loss: 0.0431 - classification_loss: 0.0428 - bbox_loss: 5.7610e-04 - classification_accuracy: 0.9862 - val_loss: 0.0385 - val_classification_loss: 0.0383 - val_bbox_loss: 3.9468e-04 - val_classification_accuracy: 0.9867\n",
      "Epoch 3/5\n",
      "1875/1875 [==============================] - 45s 24ms/step - loss: 0.0306 - classification_loss: 0.0304 - bbox_loss: 2.5504e-04 - classification_accuracy: 0.9907 - val_loss: 0.0327 - val_classification_loss: 0.0327 - val_bbox_loss: 1.6308e-04 - val_classification_accuracy: 0.9897\n",
      "Epoch 4/5\n",
      "1875/1875 [==============================] - 45s 24ms/step - loss: 0.0210 - classification_loss: 0.0209 - bbox_loss: 1.1189e-04 - classification_accuracy: 0.9934 - val_loss: 0.0309 - val_classification_loss: 0.0309 - val_bbox_loss: 6.7227e-05 - val_classification_accuracy: 0.9899\n",
      "Epoch 5/5\n",
      "1875/1875 [==============================] - 45s 24ms/step - loss: 0.0170 - classification_loss: 0.0170 - bbox_loss: 3.3527e-05 - classification_accuracy: 0.9946 - val_loss: 0.0402 - val_classification_loss: 0.0402 - val_bbox_loss: 1.2144e-05 - val_classification_accuracy: 0.9880\n",
      "1/1 [==============================] - 0s 219ms/step\n",
      "Predicted digit: 7\n"
     ]
    },
    {
     "data": {
      "image/png": "[encoded data removed]",
      "text/plain": [
       "<Figure size 432x288 with 1 Axes>"
      ]
     },
     "metadata": {
      "needs_background": "light"
     },
     "output_type": "display_data"
    }
   ],
   "source": [
    "# Import required libraries\n",
    "import tensorflow as tf\n",
    "from tensorflow.keras.models import Model\n",
    "from tensorflow.keras.layers import Conv2D, MaxPooling2D, Flatten, Dense, Input\n",
    "import numpy as np\n",
    "import matplotlib.pyplot as plt\n",
    "import matplotlib.patches as patches\n",
    "\n",
    "# 1. Load and preprocess the MNIST dataset\n",
    "(x_train, y_train), (x_test, y_test) = tf.keras.datasets.mnist.load_data()  # Load MNIST dataset\n",
    "x_train = x_train.reshape(-1, 28, 28, 1) / 255.0  # Normalize and reshape training data\n",
    "x_test = x_test.reshape(-1, 28, 28, 1) / 255.0    # Normalize and reshape test data\n",
    "\n",
    "# 2. Generate synthetic bounding boxes for all images\n",
    "bbox_train = np.array([[6, 6, 22, 22] for _ in range(len(x_train))], dtype=np.float32) / 28.0  # Bounding box for training set\n",
    "bbox_test = np.array([[6, 6, 22, 22] for _ in range(len(x_test))], dtype=np.float32) / 28.0    # Bounding box for test set\n",
    "\n",
    "# 3. Define the CNN model with two outputs (classification and bounding box prediction)\n",
    "inputs = Input(shape=(28, 28, 1))                      # Input layer for 28x28 grayscale image\n",
    "x = Conv2D(32, (3, 3), activation='relu')(inputs)      # First convolutional layer\n",
    "x = MaxPooling2D((2, 2))(x)                            # First max-pooling layer\n",
    "x = Conv2D(64, (3, 3), activation='relu')(x)           # Second convolutional layer\n",
    "x = MaxPooling2D((2, 2))(x)                            # Second max-pooling layer\n",
    "x = Flatten()(x)                                       # Flatten the output\n",
    "x = Dense(128, activation='relu')(x)                   # Fully connected layer\n",
    "\n",
    "classification_output = Dense(10, activation='softmax', name='classification')(x)  # Output layer for digit classification\n",
    "bbox_output = Dense(4, activation='sigmoid', name='bbox')(x)                       # Output layer for bounding box prediction\n",
    "\n",
    "model = Model(inputs=inputs, outputs=[classification_output, bbox_output])        # Create the model with two outputs\n",
    "\n",
    "# 4. Compile and train the model\n",
    "model.compile(\n",
    "    optimizer='adam',  # Optimizer\n",
    "    loss={'classification': 'sparse_categorical_crossentropy', 'bbox': 'mse'},  # Loss functions\n",
    "    loss_weights={'classification': 1.0, 'bbox': 0.5},  # Relative weights for each output\n",
    "    metrics={'classification': 'accuracy'}  # Evaluation metric\n",
    ")\n",
    "\n",
    "model.fit(\n",
    "    x_train,\n",
    "    {'classification': y_train, 'bbox': bbox_train},  # Training labels for both outputs\n",
    "    epochs=5,  # Number of training epochs\n",
    "    validation_data=(x_test, {'classification': y_test, 'bbox': bbox_test})  # Validation data\n",
    ")\n",
    "\n",
    "# 5. Save the trained model to a file\n",
    "model.save('multi_output_mnist_model.h5')  # Save the entire model\n",
    "\n",
    "# 6. Test the model on a single image\n",
    "test_image = x_test[0:1]                            # Select one test image\n",
    "class_pred, bbox_pred = model.predict(test_image)  # Predict class and bounding box\n",
    "digit = np.argmax(class_pred[0])                   # Get the predicted digit\n",
    "bbox = bbox_pred[0] * 28                            # Convert normalized bbox to pixel values\n",
    "\n",
    "print(f\"Predicted digit: {digit}\")                  # Print predicted digit\n",
    "\n",
    "# Plot the image and the predicted bounding box\n",
    "fig, ax = plt.subplots()\n",
    "ax.imshow(test_image[0].reshape(28, 28), cmap='gray')  # Show image in grayscale\n",
    "rect = patches.Rectangle(\n",
    "    (bbox[0], bbox[1]),          # Top-left corner of the box\n",
    "    bbox[2] - bbox[0],           # Width of the box\n",
    "    bbox[3] - bbox[1],           # Height of the box\n",
    "    linewidth=2, edgecolor='r', facecolor='none'  # Red box with no fill\n",
    ")\n",
    "ax.add_patch(rect)  # Add the bounding box to the plot\n",
    "plt.show()          # Display the plot\n"
   ]
  },
  {
   "cell_type": "code",
   "execution_count": null,
   "metadata": {},
   "outputs": [],
   "source": []
  }
 ],
 "metadata": {
  "kernelspec": {
   "display_name": "Python 3",
   "language": "python",
   "name": "python3"
  },
  "language_info": {
   "codemirror_mode": {
    "name": "ipython",
    "version": 3
   },
   "file_extension": ".py",
   "mimetype": "text/x-python",
   "name": "python",
   "nbconvert_exporter": "python",
   "pygments_lexer": "ipython3",
   "version": "3.7.6"
  }
 },
 "nbformat": 4,
 "nbformat_minor": 4
}
